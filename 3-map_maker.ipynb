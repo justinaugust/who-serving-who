{
 "cells": [
  {
   "cell_type": "code",
   "execution_count": null,
   "metadata": {},
   "outputs": [],
   "source": []
  },
  {
   "cell_type": "code",
   "execution_count": null,
   "metadata": {},
   "outputs": [],
   "source": [
    "mila = {\n",
    "\n",
    "    'gender' : 4,\n",
    "    'el_fluency' : 180,\n",
    "    'migrant_ed' : False,\n",
    "    'economic_status' : 111,\n",
    "    'military_status' : 51,\n",
    "    'homeless' : 53,\n",
    "    'ethnicity' : 80,\n",
    "    'parent_ed' : 94,\n",
    "    'disability' : 99,\n",
    "}\n",
    "\n",
    "mladen = {\n",
    "\n",
    "    'gender' : 3,\n",
    "    'el_fluency' : 180,\n",
    "    'migrant_ed' : False,\n",
    "    'economic_status' : 111,\n",
    "    'military_status' : 51,\n",
    "    'homeless' : 53,\n",
    "    'ethnicity' : 80,\n",
    "    'parent_ed' : 94,\n",
    "    'disability' : 99,\n",
    "}\n",
    "\n",
    "mariah = {\n",
    "\n",
    "    'gender' : 3,\n",
    "    'el_fluency' : 180,\n",
    "    'migrant_ed' : False,\n",
    "    'economic_status' : 111,\n",
    "    'military_status' : 51,\n",
    "    'homeless' : 53,\n",
    "    'ethnicity' : 200,\n",
    "    'parent_ed' : 93,\n",
    "    'disability' : 99,\n",
    "}"
   ]
  },
  {
   "cell_type": "code",
   "execution_count": null,
   "metadata": {},
   "outputs": [],
   "source": []
  },
  {
   "cell_type": "code",
   "execution_count": null,
   "metadata": {},
   "outputs": [],
   "source": [
    "display(mila, school_level = ['elementary'])"
   ]
  }
 ],
 "metadata": {
  "kernelspec": {
   "display_name": "Python [conda env:gadsi] *",
   "language": "python",
   "name": "conda-env-gadsi-py"
  },
  "language_info": {
   "codemirror_mode": {
    "name": "ipython",
    "version": 3
   },
   "file_extension": ".py",
   "mimetype": "text/x-python",
   "name": "python",
   "nbconvert_exporter": "python",
   "pygments_lexer": "ipython3",
   "version": "3.7.3"
  }
 },
 "nbformat": 4,
 "nbformat_minor": 2
}
