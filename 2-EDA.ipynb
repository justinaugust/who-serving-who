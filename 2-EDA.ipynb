{
 "cells": [
  {
   "cell_type": "code",
   "execution_count": 52,
   "metadata": {},
   "outputs": [],
   "source": [
    "import pandas as pd\n",
    "import sqlalchemy as sal"
   ]
  },
  {
   "cell_type": "code",
   "execution_count": 53,
   "metadata": {},
   "outputs": [],
   "source": [
    "host = \"localhost\"\n",
    "dbname = \"who_serving_who\"\n",
    "user = \"justinaugust\"\n",
    "port =  5432\n",
    "\n",
    "engine = sal.create_engine(f'postgresql://{user}@{host}:{port}/{dbname}')"
   ]
  },
  {
   "cell_type": "code",
   "execution_count": 54,
   "metadata": {},
   "outputs": [
    {
     "data": {
      "text/html": [
       "<div>\n",
       "<style scoped>\n",
       "    .dataframe tbody tr th:only-of-type {\n",
       "        vertical-align: middle;\n",
       "    }\n",
       "\n",
       "    .dataframe tbody tr th {\n",
       "        vertical-align: top;\n",
       "    }\n",
       "\n",
       "    .dataframe thead th {\n",
       "        text-align: right;\n",
       "    }\n",
       "</style>\n",
       "<table border=\"1\" class=\"dataframe\">\n",
       "  <thead>\n",
       "    <tr style=\"text-align: right;\">\n",
       "      <th></th>\n",
       "      <th>Demographic ID</th>\n",
       "      <th>Demographic ID Num</th>\n",
       "      <th>Demographic Name</th>\n",
       "      <th>Student Group</th>\n",
       "    </tr>\n",
       "  </thead>\n",
       "  <tbody>\n",
       "    <tr>\n",
       "      <th>0</th>\n",
       "      <td>1</td>\n",
       "      <td>1</td>\n",
       "      <td>All Students</td>\n",
       "      <td>All Students</td>\n",
       "    </tr>\n",
       "    <tr>\n",
       "      <th>1</th>\n",
       "      <td>3</td>\n",
       "      <td>3</td>\n",
       "      <td>Male</td>\n",
       "      <td>Gender</td>\n",
       "    </tr>\n",
       "    <tr>\n",
       "      <th>2</th>\n",
       "      <td>4</td>\n",
       "      <td>4</td>\n",
       "      <td>Female</td>\n",
       "      <td>Gender</td>\n",
       "    </tr>\n",
       "    <tr>\n",
       "      <th>3</th>\n",
       "      <td>6</td>\n",
       "      <td>6</td>\n",
       "      <td>Fluent English proficient and English only</td>\n",
       "      <td>English-Language Fluency</td>\n",
       "    </tr>\n",
       "    <tr>\n",
       "      <th>4</th>\n",
       "      <td>7</td>\n",
       "      <td>7</td>\n",
       "      <td>Initial fluent English proficient (IFEP)</td>\n",
       "      <td>English-Language Fluency</td>\n",
       "    </tr>\n",
       "  </tbody>\n",
       "</table>\n",
       "</div>"
      ],
      "text/plain": [
       "   Demographic ID  Demographic ID Num  \\\n",
       "0               1                   1   \n",
       "1               3                   3   \n",
       "2               4                   4   \n",
       "3               6                   6   \n",
       "4               7                   7   \n",
       "\n",
       "                             Demographic Name             Student Group  \n",
       "0                                All Students              All Students  \n",
       "1                                        Male                    Gender  \n",
       "2                                      Female                    Gender  \n",
       "3  Fluent English proficient and English only  English-Language Fluency  \n",
       "4    Initial fluent English proficient (IFEP)  English-Language Fluency  "
      ]
     },
     "execution_count": 54,
     "metadata": {},
     "output_type": "execute_result"
    }
   ],
   "source": [
    "##get subgroups for referencing later\n",
    "with engine.connect() as conn, conn.begin():\n",
    "    command = sal.sql.text(\"\"\"\n",
    "    SELECT *\n",
    "    FROM caaspp_subgroups\n",
    "    \"\"\")\n",
    "    subgroups = pd.read_sql(command, con=conn)\n",
    "    conn.execute(\"commit\")\n",
    "subgroups.head()"
   ]
  },
  {
   "cell_type": "code",
   "execution_count": 55,
   "metadata": {},
   "outputs": [
    {
     "data": {
      "text/html": [
       "<div>\n",
       "<style scoped>\n",
       "    .dataframe tbody tr th:only-of-type {\n",
       "        vertical-align: middle;\n",
       "    }\n",
       "\n",
       "    .dataframe tbody tr th {\n",
       "        vertical-align: top;\n",
       "    }\n",
       "\n",
       "    .dataframe thead th {\n",
       "        text-align: right;\n",
       "    }\n",
       "</style>\n",
       "<table border=\"1\" class=\"dataframe\">\n",
       "  <thead>\n",
       "    <tr style=\"text-align: right;\">\n",
       "      <th></th>\n",
       "      <th>Test ID</th>\n",
       "      <th>Test ID Num</th>\n",
       "      <th>Test Name</th>\n",
       "    </tr>\n",
       "  </thead>\n",
       "  <tbody>\n",
       "    <tr>\n",
       "      <th>0</th>\n",
       "      <td>1</td>\n",
       "      <td>1</td>\n",
       "      <td>SB - English Language Arts/Literacy</td>\n",
       "    </tr>\n",
       "    <tr>\n",
       "      <th>1</th>\n",
       "      <td>2</td>\n",
       "      <td>2</td>\n",
       "      <td>SB - Mathematics</td>\n",
       "    </tr>\n",
       "    <tr>\n",
       "      <th>2</th>\n",
       "      <td>3</td>\n",
       "      <td>3</td>\n",
       "      <td>CAA - English Language Arts/Literacy</td>\n",
       "    </tr>\n",
       "    <tr>\n",
       "      <th>3</th>\n",
       "      <td>4</td>\n",
       "      <td>4</td>\n",
       "      <td>CAA - Mathematics</td>\n",
       "    </tr>\n",
       "    <tr>\n",
       "      <th>4</th>\n",
       "      <td>17</td>\n",
       "      <td>17</td>\n",
       "      <td>CAST - California Science Test</td>\n",
       "    </tr>\n",
       "  </tbody>\n",
       "</table>\n",
       "</div>"
      ],
      "text/plain": [
       "   Test ID  Test ID Num                             Test Name\n",
       "0        1            1   SB - English Language Arts/Literacy\n",
       "1        2            2                      SB - Mathematics\n",
       "2        3            3  CAA - English Language Arts/Literacy\n",
       "3        4            4                     CAA - Mathematics\n",
       "4       17           17        CAST - California Science Test"
      ]
     },
     "execution_count": 55,
     "metadata": {},
     "output_type": "execute_result"
    }
   ],
   "source": [
    "##get subgroups for referencing later\n",
    "with engine.connect() as conn, conn.begin():\n",
    "    command = sal.sql.text(\"\"\"\n",
    "    SELECT *\n",
    "    FROM caaspp_tests\n",
    "    \"\"\")\n",
    "    tests = pd.read_sql(command, con=conn)\n",
    "    conn.execute(\"commit\")\n",
    "tests.head()"
   ]
  },
  {
   "cell_type": "code",
   "execution_count": null,
   "metadata": {},
   "outputs": [],
   "source": [
    "##get subgroups for referencing later\n",
    "with engine.connect() as conn, conn.begin():\n",
    "    command = sal.sql.text(\"\"\"\n",
    "    SELECT e2019.\"School Name\",\n",
    "    sg2019.\"Demographic Name\",\n",
    "    sg2019.\"Student Group\",\n",
    "    t2019.\"Test Name\",\n",
    "    r2019.\"Percentage Standard Exceeded\",\n",
    "    r2019.\"Percentage Standard Met\",\n",
    "    r2019.\"Percentage Standard Met and Above\",\n",
    "    r2019.\"Percentage Standard Nearly Met\",\n",
    "    r2019.\"Percentage Standard Not Met\"\n",
    "    FROM caaspp_2019 r2019\n",
    "    INNER JOIN caaspp_2019_entities e2019 ON r2019.\"School Code\" = e2019.\"School Code\"\n",
    "    INNER JOIN caaspp_subgroups sg2019 ON r2019.\"Subgroup ID\" = sg2019.\"Demographic ID Num\"\n",
    "    INNER JOIN caaspp_tests t2019 ON r2019.\"Test Id\" = t2019.\"Test ID Num\"\n",
    "    ;\n",
    "    \"\"\")\n",
    "    y2019 = pd.read_sql(command, con=conn)\n",
    "    conn.execute(\"commit\")\n",
    "y2019.head()"
   ]
  },
  {
   "cell_type": "code",
   "execution_count": null,
   "metadata": {},
   "outputs": [],
   "source": []
  },
  {
   "cell_type": "code",
   "execution_count": null,
   "metadata": {},
   "outputs": [],
   "source": []
  }
 ],
 "metadata": {
  "kernelspec": {
   "display_name": "Python [conda env:.conda-dsi] *",
   "language": "python",
   "name": "conda-env-.conda-dsi-py"
  },
  "language_info": {
   "codemirror_mode": {
    "name": "ipython",
    "version": 3
   },
   "file_extension": ".py",
   "mimetype": "text/x-python",
   "name": "python",
   "nbconvert_exporter": "python",
   "pygments_lexer": "ipython3",
   "version": "3.7.4"
  }
 },
 "nbformat": 4,
 "nbformat_minor": 2
}
