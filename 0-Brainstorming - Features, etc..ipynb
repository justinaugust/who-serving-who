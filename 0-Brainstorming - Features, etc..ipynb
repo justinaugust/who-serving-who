{
 "cells": [
  {
   "cell_type": "markdown",
   "metadata": {},
   "source": [
    "# Brainstorming"
   ]
  },
  {
   "cell_type": "markdown",
   "metadata": {},
   "source": [
    "## This Iteration\n",
    "_focusing on Oakland_\n",
    "### Definites\n",
    "- Outcoming correlations on CAASSP by:\n",
    "    - Ethnicity\n",
    "    - Race\n",
    "    - Gender\n",
    "    - Immigration Status\n",
    "    - EL Proficiency\n",
    "- Cluster Markers on Folium/Leaflet/Mapbox map\n",
    "- \n",
    "\n",
    "\n",
    "### Stretch Goals\n",
    "- Trend in outcomes over time\n",
    "- Mobile Friendly\n"
   ]
  },
  {
   "cell_type": "markdown",
   "metadata": {},
   "source": [
    "## Office of Future Plans\n",
    "- High School Graduation\n",
    "- Reading Proficiency by grade\n",
    "- Art standards\n",
    "- Relationship ratings\n",
    "- Teacher tenure\n",
    "- "
   ]
  },
  {
   "cell_type": "markdown",
   "metadata": {},
   "source": []
  }
 ],
 "metadata": {
  "kernelspec": {
   "display_name": "Python [conda env:.conda-dsi] *",
   "language": "python",
   "name": "conda-env-.conda-dsi-py"
  },
  "language_info": {
   "codemirror_mode": {
    "name": "ipython",
    "version": 3
   },
   "file_extension": ".py",
   "mimetype": "text/x-python",
   "name": "python",
   "nbconvert_exporter": "python",
   "pygments_lexer": "ipython3",
   "version": "3.7.4"
  }
 },
 "nbformat": 4,
 "nbformat_minor": 2
}
