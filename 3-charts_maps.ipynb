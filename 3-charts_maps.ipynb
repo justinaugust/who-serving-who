{
 "cells": [
  {
   "cell_type": "code",
   "execution_count": null,
   "metadata": {},
   "outputs": [],
   "source": []
  },
  {
   "cell_type": "code",
   "execution_count": null,
   "metadata": {},
   "outputs": [],
   "source": []
  },
  {
   "cell_type": "code",
   "execution_count": null,
   "metadata": {},
   "outputs": [],
   "source": [
    "\n",
    "sns.distplot(all_oak_2019.loc[(all_oak_2019['group_id'] == 3) &\n",
    "                              (all_oak_2019['school_level'] == 'elementary_school') &\n",
    "                              (all_oak_2019['test_id'] == 1), 'demo_diff'])\n",
    "             \n",
    "\n",
    "sns.distplot(all_oak_2019.loc[(all_oak_2019['group_id'] == 4) &\n",
    "                              (all_oak_2019['school_level'] == 'elementary_school') &\n",
    "                              (all_oak_2019['test_id'] == 1), 'demo_diff'])\n",
    "             "
   ]
  },
  {
   "cell_type": "code",
   "execution_count": null,
   "metadata": {},
   "outputs": [],
   "source": [
    "all_studs = alt.Chart(all_oak_HS_2019.loc[all_oak_HS_2019['group_id'] == 1]\n",
    "                ).mark_bar(clip=True).encode(\n",
    "    y = alt.Y('test_id',\n",
    "              type='ordinal',\n",
    "              title = \"Test\"\n",
    "             ),\n",
    "    x = alt.X('avg_percent_met_exceeded',\n",
    "              type='quantitative',\n",
    "             title = \"% of All Students Meeting or Exceeding Standards on CAASSP\",\n",
    "             scale=alt.Scale(domain=(5,100))\n",
    "             ),\n",
    "    color = alt.Color('test_id',\n",
    "                      type=\"nominal\",\n",
    "                      legend = alt.Legend(title=\"Test ID by Color\")\n",
    "                     ),\n",
    "    row = alt.Row('school_name',\n",
    "                 type=\"nominal\"\n",
    "                 ),\n",
    "    tooltip = ['school_name', 'avg_percent_met_exceeded', 'test_id'],\n",
    ").configure_header(\n",
    "    labelAngle=0,\n",
    ").configure_axisY(\n",
    ").interactive().add_selection(pts)\n",
    "all_studs"
   ]
  },
  {
   "cell_type": "code",
   "execution_count": null,
   "metadata": {},
   "outputs": [],
   "source": [
    "alt.Chart(all_oak_2019.loc[(all_oak_2019['group_id'] == 1) &\n",
    "                           (all_oak_2019['school_level'] == 'elementary_school') &\n",
    "                           (all_oak_2019['test_id'] == 1)]).mark_bar().encode(\n",
    "    x = alt.X(\"school_id:N\"),\n",
    "    y = alt.Y(\"demo_diff:Q\"),\n",
    "    color = alt.condition(\n",
    "        alt.datum.nonfarm_change >= 0,\n",
    "        alt.value(\"green\"),  # The positive color\n",
    "        alt.value(\"orange\")  # The negative color\n",
    "    )\n",
    "             ).properties(width=600)"
   ]
  }
 ],
 "metadata": {
  "kernelspec": {
   "display_name": "Python [conda env:gadsi] *",
   "language": "python",
   "name": "conda-env-gadsi-py"
  },
  "language_info": {
   "codemirror_mode": {
    "name": "ipython",
    "version": 3
   },
   "file_extension": ".py",
   "mimetype": "text/x-python",
   "name": "python",
   "nbconvert_exporter": "python",
   "pygments_lexer": "ipython3",
   "version": "3.7.3"
  }
 },
 "nbformat": 4,
 "nbformat_minor": 2
}
