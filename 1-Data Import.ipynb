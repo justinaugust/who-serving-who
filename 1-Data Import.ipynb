{
 "cells": [
  {
   "cell_type": "code",
   "execution_count": 24,
   "metadata": {},
   "outputs": [],
   "source": [
    "import pandas as pd\n",
    "import os\n",
    "import sqlalchemy as sal"
   ]
  },
  {
   "cell_type": "markdown",
   "metadata": {},
   "source": [
    "# Data Sourcing\n",
    "Data was acquired from the California Department of Education via their [Research Files](https://caaspp-elpac.cde.ca.gov/caaspp/ResearchFileList?ps=true&lstTestYear=2019&lstTestType=B&lstCounty=00&lstDistrict=00000&lstSchool=0000000)\n",
    "\n",
    "Using SQL-Alchemy + PANDAS it was inserted into a Postgres DB."
   ]
  },
  {
   "cell_type": "code",
   "execution_count": 40,
   "metadata": {},
   "outputs": [],
   "source": [
    "def csv_to_sql(file):\n",
    "\n",
    "    host = \"localhost\"\n",
    "    dbname = \"who_serving_who\"\n",
    "    user = \"justinaugust\"\n",
    "    port =  5432\n",
    "    table_name = file.strip('.txt')\n",
    "\n",
    "    engine = sal.create_engine(f'postgresql://{user}@{host}:{port}/{dbname}')\n",
    "\n",
    "    print(f'importing {file}')\n",
    "    with engine.connect() as conn, conn.begin():\n",
    "        \n",
    "        try:\n",
    "            df = pd.read_csv(f'data/{file}')\n",
    "            df.to_sql(table_name,\n",
    "                 con = conn,\n",
    "                 if_exists = 'replace',\n",
    "                 index = False)\n",
    "            print(f'Imported {file}')\n",
    "        except:\n",
    "            print(f'FAILED to Import {file}')\n",
    "    "
   ]
  },
  {
   "cell_type": "code",
   "execution_count": 44,
   "metadata": {},
   "outputs": [
    {
     "name": "stdout",
     "output_type": "stream",
     "text": [
      "importing sb_ca2018entities_csv.txt\n",
      "Imported sb_ca2018entities_csv.txt\n",
      "done!\n"
     ]
    }
   ],
   "source": [
    "[csv_to_sql(file) for file in os.listdir(\"data/\") if file.endswith('.txt')]\n",
    "print(\"done!\")"
   ]
  },
  {
   "cell_type": "markdown",
   "metadata": {},
   "source": [
    "## Notes\n",
    "The `entities` files needed to be opened, copied and repasted in order to fix some encoding issues. The `utf-8` encoding was broken."
   ]
  },
  {
   "cell_type": "code",
   "execution_count": null,
   "metadata": {},
   "outputs": [],
   "source": []
  }
 ],
 "metadata": {
  "kernelspec": {
   "display_name": "Python [conda env:.conda-dsi] *",
   "language": "python",
   "name": "conda-env-.conda-dsi-py"
  },
  "language_info": {
   "codemirror_mode": {
    "name": "ipython",
    "version": 3
   },
   "file_extension": ".py",
   "mimetype": "text/x-python",
   "name": "python",
   "nbconvert_exporter": "python",
   "pygments_lexer": "ipython3",
   "version": "3.7.4"
  }
 },
 "nbformat": 4,
 "nbformat_minor": 2
}
